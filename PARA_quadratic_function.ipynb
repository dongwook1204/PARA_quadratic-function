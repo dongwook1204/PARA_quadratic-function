{
  "nbformat": 4,
  "nbformat_minor": 0,
  "metadata": {
    "colab": {
      "provenance": [],
      "gpuType": "T4"
    },
    "kernelspec": {
      "name": "python3",
      "display_name": "Python 3"
    },
    "language_info": {
      "name": "python"
    },
    "accelerator": "GPU"
  },
  "cells": [
    {
      "cell_type": "code",
      "execution_count": null,
      "metadata": {
        "id": "X9zeqPWdzswk"
      },
      "outputs": [],
      "source": [
        "import numpy as np # numpy 가져오기\n",
        "import matplotlib.pyplot as plt # matplotlib.pyplot 가져오기"
      ]
    },
    {
      "cell_type": "code",
      "source": [
        "def second(): # 2차 함수 만들기\n",
        "\n",
        "  while(1): # 정확한 입력을 받을 때까지 무한 반복\n",
        "    try: # 정수가 아니면 다시 입력\n",
        "      a,b,c=map(float,input(\"X²의 계수와 X의 계수와 상수항을 순서대로 입력해주세요 : \").split())\n",
        "      break\n",
        "    except ValueError:\n",
        "      print(\"정수로 다시 입력해주세요!\")\n",
        "\n",
        "  x_vertex = -b/(2*a) # 2차 함수 그래프 꼭짓점의 x 좌표\n",
        "  y_vertex = a*x_vertex*x_vertex + b*x_vertex + c # 2차 함수 그래프 꼭짓점의 y 좌표\n",
        "\n",
        "  D = b*b - (4 * a * c) # 판별식\n",
        "\n",
        "  if (D > 0): # 판별식으로 x축과의 관계 비교\n",
        "    d = 'x축과 서로 다른 두 점에서 만난다.'\n",
        "  elif (D == 0):\n",
        "    d = 'x축과 한 점에서 접한다.'\n",
        "  else:\n",
        "    d = 'x축과 만나지 않는다.'\n",
        "\n",
        "  x = np.linspace(x_vertex - 10,x_vertex + 10,100) # 2차 함수의 꼭짓점을 중심으로 +-10으로 그래프 그리기\n",
        "  y = a * x * x + b * x + c # 2차 함수 정의하기\n",
        "\n",
        "  plt.plot(x,y,label='quadratic function') # 2차 함수 그리기\n",
        "  plt.axhline(y = 0, color = 'black', linewidth = 1) # x축 선 그리기\n",
        "  plt.axvline(x = 0, color = 'black', linewidth = 1) # y축 선 그리기\n",
        "  plt.title(f'y = {a}X²+ {b}x + {c}') # 입력받은 2차 함수\n",
        "  plt.xlabel('x') # x축\n",
        "  plt.ylabel('y') # y축\n",
        "  plt.grid(True) # 격자선 표시\n",
        "  plt.scatter(x_vertex, y_vertex, color='red', label='vertex') # 2차 함수 꼭짓점에 점 찍기\n",
        "  plt.legend() # 범례 표시\n",
        "  plt.show() # 그래프 화면에 출력\n",
        "\n",
        "  print()\n",
        "  print('---------------------------------------')\n",
        "  if (a > 0):\n",
        "    print(\"그래프의 모양 : 아래로 볼록하다\")\n",
        "  else:\n",
        "    print(\"그래프의 모양 : 위로 볼록하다\")\n",
        "\n",
        "  print(f'꼭짓점의 좌표 : ({x_vertex},{y_vertex})') # 2차 함수의 꼭짓점\n",
        "  print(f'x축과의 관계 : {d}') # 2차 함수 그래프와 x축과의 관계\n",
        "\n"
      ],
      "metadata": {
        "id": "1oWqTmLQzx3Q"
      },
      "execution_count": null,
      "outputs": []
    },
    {
      "cell_type": "code",
      "source": [
        "print(\"2차 함수 그래프 프로그램입니다!\") # 2차 함수 프로그램 알려주기\n",
        "second() # 함수 호출"
      ],
      "metadata": {
        "id": "3laW02cfz1iW"
      },
      "execution_count": null,
      "outputs": []
    }
  ]
}